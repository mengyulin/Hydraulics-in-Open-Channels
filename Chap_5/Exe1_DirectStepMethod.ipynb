{
 "cells": [
  {
   "cell_type": "markdown",
   "id": "b7dd4b82-0d21-4b48-8139-4ee9ca4ba2f4",
   "metadata": {
    "panel-layout": {
     "height": 245.3125,
     "visible": true,
     "width": 100
    }
   },
   "source": [
    "# Direct Step Method - Distance Calculated from Depth\n",
    "\n",
    "## Example 1\n",
    "\n",
    "A trapezoidal channel of base width 20 ft and side slopes $1\\frac{1}{2}H: 1V$ is laid on a slope of 0.001 and carries a discharge of 1,000 cusecs. The channel terminates in a free overfall and it is desired to explore the \"drawdown\" to the overfall and the extent to which velocities are thereby increased. For this reason it is required to compute and plot the flow profile upstream from the overfall over the region where the velocity is at least 10 percent greater than at uniform flow. The Manning n = 0.025."
   ]
  },
  {
   "cell_type": "code",
   "execution_count": 1,
   "id": "80ec9838-fdcf-4967-ba4b-464cd0a60158",
   "metadata": {},
   "outputs": [],
   "source": [
    "import numpy as np\n",
    "import matplotlib.pyplot as plt\n",
    "from scipy import optimize"
   ]
  },
  {
   "cell_type": "markdown",
   "id": "dda8591a-78ee-41a1-9e19-8813f3b8872b",
   "metadata": {
    "panel-layout": {
     "height": 44.03125,
     "visible": true,
     "width": 100
    }
   },
   "source": [
    "## Channel Conditions"
   ]
  },
  {
   "cell_type": "markdown",
   "id": "ce77a58c-f0d6-4cc5-a714-f5d577a82939",
   "metadata": {
    "panel-layout": {
     "height": 51,
     "visible": true,
     "width": 100
    }
   },
   "source": [
    "Flowrate $Q$:"
   ]
  },
  {
   "cell_type": "code",
   "execution_count": 2,
   "id": "2d412c01-5f3b-420b-a504-39c27ae9bc7b",
   "metadata": {},
   "outputs": [],
   "source": [
    "Q = 1000"
   ]
  },
  {
   "cell_type": "markdown",
   "id": "59b69c0c-2a1a-429d-b8f4-2ecfdd4e5fe4",
   "metadata": {
    "panel-layout": {
     "height": 51,
     "visible": true,
     "width": 100
    }
   },
   "source": [
    "Slope $S_0$:"
   ]
  },
  {
   "cell_type": "code",
   "execution_count": 3,
   "id": "5a0e482e-4d9f-48c6-b3a0-339d8a5ff8b1",
   "metadata": {},
   "outputs": [],
   "source": [
    "S0 = 0.001"
   ]
  },
  {
   "cell_type": "markdown",
   "id": "147b331a-8d08-4a95-80aa-59f7599fded8",
   "metadata": {
    "panel-layout": {
     "height": 51,
     "visible": true,
     "width": 100
    }
   },
   "source": [
    "Manning $n$:"
   ]
  },
  {
   "cell_type": "code",
   "execution_count": 4,
   "id": "640f3c3d-5bac-4039-a927-8bd137eb51a7",
   "metadata": {},
   "outputs": [],
   "source": [
    "n = 0.025"
   ]
  },
  {
   "cell_type": "markdown",
   "id": "cce25880-7f5d-4c6d-ba57-7427d223bed0",
   "metadata": {
    "panel-layout": {
     "height": 51,
     "visible": true,
     "width": 100
    }
   },
   "source": [
    "Gravitational acceleration $g$:"
   ]
  },
  {
   "cell_type": "code",
   "execution_count": 5,
   "id": "7be31c22-0023-46ca-bc0a-4b51c9a9225e",
   "metadata": {},
   "outputs": [],
   "source": [
    "g = 32.174"
   ]
  },
  {
   "cell_type": "markdown",
   "id": "34fff963-6033-477a-bd43-8c9d4fb203c8",
   "metadata": {
    "panel-layout": {
     "height": 44.03125,
     "visible": true,
     "width": 100
    }
   },
   "source": [
    "### Area and wet perimeter"
   ]
  },
  {
   "cell_type": "markdown",
   "id": "2692f944-db67-4b8f-a990-db172cb0a73f",
   "metadata": {
    "panel-layout": {
     "height": 43.0625,
     "visible": true,
     "width": 100
    }
   },
   "source": [
    "#### Area"
   ]
  },
  {
   "cell_type": "code",
   "execution_count": 6,
   "id": "fa186e07-76db-4738-b37f-fc94a0425459",
   "metadata": {},
   "outputs": [],
   "source": [
    "def area(y):\n",
    "    A = y * (20 + 1.5 * y)\n",
    "    return A"
   ]
  },
  {
   "cell_type": "markdown",
   "id": "3ea279c2-7630-4c99-8ccc-e77ea20390ba",
   "metadata": {
    "panel-layout": {
     "height": 43.0625,
     "visible": true,
     "width": 100
    }
   },
   "source": [
    "#### Wet Perimeter"
   ]
  },
  {
   "cell_type": "code",
   "execution_count": 7,
   "id": "aaf8c22d-3a0f-42c5-ba28-0f9c77ad2e89",
   "metadata": {},
   "outputs": [],
   "source": [
    "def perimeter(y):\n",
    "    P = 20 + 2 * np.sqrt(3.25) * y\n",
    "    return P"
   ]
  },
  {
   "cell_type": "markdown",
   "id": "75697210-bf55-4af0-a3b3-43e491d27113",
   "metadata": {
    "panel-layout": {
     "height": 43.0625,
     "visible": true,
     "width": 100
    }
   },
   "source": [
    "#### Hydraulic Radius"
   ]
  },
  {
   "cell_type": "code",
   "execution_count": 8,
   "id": "549e522f-8b23-408f-ab63-fda0da4a5ddb",
   "metadata": {},
   "outputs": [],
   "source": [
    "def radius(y):\n",
    "    A = area(y)\n",
    "    P = perimeter(y)\n",
    "    R = A/P\n",
    "    return R"
   ]
  },
  {
   "cell_type": "markdown",
   "id": "3084685b-6f58-45a6-b2a4-7c6a66d98d2f",
   "metadata": {
    "panel-layout": {
     "height": 43.0625,
     "visible": true,
     "width": 100
    }
   },
   "source": [
    "#### Manning Equation (for solving y)"
   ]
  },
  {
   "cell_type": "code",
   "execution_count": 9,
   "id": "c9a06dbc-7916-48a2-999d-9717a161ffdf",
   "metadata": {},
   "outputs": [],
   "source": [
    "def Manning_y(y):\n",
    "    A = area(y)\n",
    "    R = radius(y)\n",
    "    return (1.49 / n * A * R**(2/3) * np.sqrt(S0) - Q)"
   ]
  },
  {
   "cell_type": "markdown",
   "id": "93fa8860-a2ee-49dd-bd48-a3f2edbfa0f9",
   "metadata": {
    "panel-layout": {
     "height": 43.0625,
     "visible": true,
     "width": 100
    }
   },
   "source": [
    "#### Velocity (for given y)"
   ]
  },
  {
   "cell_type": "code",
   "execution_count": 10,
   "id": "c6d9ee35-bb89-41b3-9f27-e2f6346ea4f4",
   "metadata": {},
   "outputs": [],
   "source": [
    "def vel_y(y):\n",
    "    A = area(y)\n",
    "    return Q/A"
   ]
  },
  {
   "cell_type": "markdown",
   "id": "ad5f7d95-9757-41d6-bf38-8f0e6cbd3132",
   "metadata": {
    "panel-layout": {
     "height": 44.03125,
     "visible": true,
     "width": 100
    }
   },
   "source": [
    "### Determine the normal depth $y_0$"
   ]
  },
  {
   "cell_type": "markdown",
   "id": "bd8c1774-e956-4d29-a931-01ca062b6927",
   "metadata": {
    "panel-layout": {
     "height": 51,
     "visible": true,
     "width": 100
    }
   },
   "source": [
    "Normal depth $y_0$:"
   ]
  },
  {
   "cell_type": "code",
   "execution_count": 11,
   "id": "e22e20dc-be02-4188-87da-fcd9ca68edcd",
   "metadata": {
    "panel-layout": {
     "height": 27,
     "visible": true,
     "width": 100
    }
   },
   "outputs": [
    {
     "data": {
      "text/plain": [
       "6.548512918036519"
      ]
     },
     "execution_count": 11,
     "metadata": {},
     "output_type": "execute_result"
    }
   ],
   "source": [
    "sol = optimize.root_scalar(Manning_y, bracket=[1, 10], method='brentq')\n",
    "y0 = sol.root\n",
    "y0"
   ]
  },
  {
   "cell_type": "markdown",
   "id": "554f5ca6-67a0-4a00-9913-1ddb6cd0f4e5",
   "metadata": {
    "panel-layout": {
     "height": 51,
     "visible": true,
     "width": 100
    }
   },
   "source": [
    "Velocity in uniform flow $v_0$:"
   ]
  },
  {
   "cell_type": "code",
   "execution_count": 12,
   "id": "737d38a3-337d-4c69-aac2-fed27378dd39",
   "metadata": {
    "panel-layout": {
     "height": 27,
     "visible": true,
     "width": 100
    }
   },
   "outputs": [
    {
     "data": {
      "text/plain": [
       "5.120464285562109"
      ]
     },
     "execution_count": 12,
     "metadata": {},
     "output_type": "execute_result"
    }
   ],
   "source": [
    "v0 = vel_y(y0)\n",
    "v0"
   ]
  },
  {
   "cell_type": "markdown",
   "id": "e2e37cb6-c784-417a-af7c-ef350ecac2f5",
   "metadata": {
    "panel-layout": {
     "height": 214.015625,
     "visible": true,
     "width": 100
    }
   },
   "source": [
    "### Detremine the critical depth $y_c$\n",
    "\n",
    "Note: at critical condition,\n",
    "$$\n",
    "v = \\sqrt{g\\frac{A}{B}}\n",
    "$$\n",
    "i.e.,\n",
    "$$\n",
    "Q^2 = g\\frac{A^3}{B}\n",
    "$$\n",
    "where $B$ is the surface width."
   ]
  },
  {
   "cell_type": "code",
   "execution_count": 13,
   "id": "10dcd483-6a36-4481-b2f7-96c53da01568",
   "metadata": {},
   "outputs": [],
   "source": [
    "def froot_yc(y):\n",
    "    A = area(y)\n",
    "    B = 20 + 3 * y\n",
    "    return (g * A**3/B - Q**2)"
   ]
  },
  {
   "cell_type": "code",
   "execution_count": 14,
   "id": "fe6b920c-a1ad-4e31-b67a-95f57c7ecbae",
   "metadata": {
    "panel-layout": {
     "height": 27,
     "visible": true,
     "width": 100
    }
   },
   "outputs": [
    {
     "data": {
      "text/plain": [
       "3.854067234759995"
      ]
     },
     "execution_count": 14,
     "metadata": {},
     "output_type": "execute_result"
    }
   ],
   "source": [
    "sol2 = optimize.root_scalar(froot_yc, bracket=[1, 10], method='brentq')\n",
    "yc = sol2.root\n",
    "yc"
   ]
  },
  {
   "cell_type": "markdown",
   "id": "f29cefdf-5ddd-4f69-8309-d3c714f1df71",
   "metadata": {
    "panel-layout": {
     "height": 44.03125,
     "visible": true,
     "width": 100
    }
   },
   "source": [
    "## Computation of Direct Step Method"
   ]
  },
  {
   "cell_type": "markdown",
   "id": "b61c5dba-503a-42d1-b441-5ebe1c412650",
   "metadata": {
    "panel-layout": {
     "height": 131,
     "visible": true,
     "width": 100
    }
   },
   "source": [
    "* Npt: number of points,\n",
    "* y_Npt: depth at each points,\n",
    "* v_Npt: velocity at each points,\n",
    "* R_Npt: hydraulic radius at each points.\n",
    "\n",
    "Compute the coordinates of the depths between $0.94 y_0$ and $y_c$:"
   ]
  },
  {
   "cell_type": "code",
   "execution_count": 15,
   "id": "1d6f3cb1-0c67-458c-8314-0e804e7a80ad",
   "metadata": {
    "panel-layout": {
     "height": 45,
     "visible": true,
     "width": 100
    }
   },
   "outputs": [
    {
     "data": {
      "text/plain": [
       "array([6.15560214, 6.0405254 , 5.92544865, 5.81037191, 5.69529516,\n",
       "       5.58021842, 5.46514167, 5.35006493, 5.23498818, 5.11991143,\n",
       "       5.00483469, 4.88975794, 4.7746812 , 4.65960445, 4.54452771,\n",
       "       4.42945096, 4.31437422, 4.19929747, 4.08422073, 3.96914398,\n",
       "       3.85406723])"
      ]
     },
     "execution_count": 15,
     "metadata": {},
     "output_type": "execute_result"
    }
   ],
   "source": [
    "Npt = 21\n",
    "y_Npt = np.linspace(y0*0.94, yc, Npt)\n",
    "y_Npt"
   ]
  },
  {
   "cell_type": "code",
   "execution_count": 16,
   "id": "1f109b0d-01fa-463c-99e0-3ec1caa1625c",
   "metadata": {},
   "outputs": [],
   "source": [
    "v_Npt = vel_y(y_Npt)\n",
    "R_Npt = radius(y_Npt)"
   ]
  },
  {
   "cell_type": "markdown",
   "id": "a86f10a7-f1a7-42d8-9015-f4c4651ab834",
   "metadata": {
    "panel-layout": {
     "height": 131,
     "visible": true,
     "width": 100
    }
   },
   "source": [
    "Chezy C:\n",
    "$$\n",
    "C = \\frac{1.49}{n}R^{\\frac{1}{6}}\n",
    "$$\n",
    "\n",
    "C2_Npt: $C^2$ at each points."
   ]
  },
  {
   "cell_type": "code",
   "execution_count": 17,
   "id": "751aa1ee-11cb-410b-868d-cccb901bd4db",
   "metadata": {},
   "outputs": [],
   "source": [
    "C2_Npt = (1.49 * radius(y_Npt)**(1/6) / n)**2"
   ]
  },
  {
   "cell_type": "markdown",
   "id": "a48e7c85-60c7-494a-8bda-dcf6ab21939d",
   "metadata": {
    "panel-layout": {
     "height": 187,
     "visible": true,
     "width": 100
    }
   },
   "source": [
    "Define $dEdx = \\Delta E/\\Delta x$:\n",
    "$$\n",
    "dEdx = \\frac{\\Delta E}{\\Delta x} = \\left(S_0 - \\frac{v^2}{C^2 R}\\right)_m\n",
    "$$\n",
    "then\n",
    "$$\n",
    "\\Delta x = \\Delta E / dEdx\n",
    "$$"
   ]
  },
  {
   "cell_type": "code",
   "execution_count": 18,
   "id": "0e057ce2-e2a1-47e9-a99a-f61808517c8c",
   "metadata": {},
   "outputs": [],
   "source": [
    "E_Npt = y_Npt + v_Npt**2 / (2*g)\n",
    "dx = np.zeros(Npt)\n",
    "for i in range(1, Npt):\n",
    "    dEdx_0 = S0 - v_Npt[i-1]**2 / (C2_Npt[i-1]*R_Npt[i-1])\n",
    "    dEdx_1 = S0 - v_Npt[i]**2 / (C2_Npt[i]*R_Npt[i])\n",
    "    dEdx = 0.5*(dEdx_0+dEdx_1)\n",
    "    dE = E_Npt[i] - E_Npt[i-1]\n",
    "    dx[i] = dE / dEdx"
   ]
  },
  {
   "cell_type": "markdown",
   "id": "59334dfb-9634-4b6a-8ef0-26ddff90029c",
   "metadata": {
    "panel-layout": {
     "height": 51,
     "visible": true,
     "width": 100
    }
   },
   "source": [
    "x_Npt: the coordinates of each y_Npt:"
   ]
  },
  {
   "cell_type": "code",
   "execution_count": 19,
   "id": "87edb6a9-d663-46de-80c1-cfcf2a0da042",
   "metadata": {},
   "outputs": [],
   "source": [
    "x_Npt = np.zeros(Npt)\n",
    "for i in range(1, Npt):\n",
    "    x_Npt[i] = x_Npt[i-1] + dx[i]"
   ]
  },
  {
   "cell_type": "code",
   "execution_count": 20,
   "id": "9361c847-b84b-4bf9-90fb-5738f4a89a47",
   "metadata": {
    "panel-layout": {
     "height": 442,
     "visible": true,
     "width": 100
    },
    "scrolled": true
   },
   "outputs": [
    {
     "data": {
      "image/png": "[encoded data removed]",
      "text/plain": [
       "<Figure size 2550x900 with 1 Axes>"
      ]
     },
     "metadata": {},
     "output_type": "display_data"
    }
   ],
   "source": [
    "fig, ax = plt.subplots(figsize=(8.5, 3), layout='constrained', dpi=300)\n",
    "ax.plot(x_Npt, y_Npt, linewidth=1, marker='.')\n",
    "ax.set_xlabel('$x$ (ft)')\n",
    "ax.set_ylabel('$y$ (ft)')\n",
    "ax.set_ylim(0, 6.5)\n",
    "plt.show()"
   ]
  }
 ],
 "metadata": {
  "kernelspec": {
   "display_name": "Python 3 (ipykernel)",
   "language": "python",
   "name": "python3"
  },
  "language_info": {
   "codemirror_mode": {
    "name": "ipython",
    "version": 3
   },
   "file_extension": ".py",
   "mimetype": "text/x-python",
   "name": "python",
   "nbconvert_exporter": "python",
   "pygments_lexer": "ipython3",
   "version": "3.11.0"
  },
  "panel-cell-order": [
   "b7dd4b82-0d21-4b48-8139-4ee9ca4ba2f4",
   "dda8591a-78ee-41a1-9e19-8813f3b8872b",
   "ce77a58c-f0d6-4cc5-a714-f5d577a82939",
   "59b69c0c-2a1a-429d-b8f4-2ecfdd4e5fe4",
   "147b331a-8d08-4a95-80aa-59f7599fded8",
   "cce25880-7f5d-4c6d-ba57-7427d223bed0",
   "34fff963-6033-477a-bd43-8c9d4fb203c8",
   "2692f944-db67-4b8f-a990-db172cb0a73f",
   "3ea279c2-7630-4c99-8ccc-e77ea20390ba",
   "75697210-bf55-4af0-a3b3-43e491d27113",
   "3084685b-6f58-45a6-b2a4-7c6a66d98d2f",
   "93fa8860-a2ee-49dd-bd48-a3f2edbfa0f9",
   "ad5f7d95-9757-41d6-bf38-8f0e6cbd3132",
   "bd8c1774-e956-4d29-a931-01ca062b6927",
   "e22e20dc-be02-4188-87da-fcd9ca68edcd",
   "554f5ca6-67a0-4a00-9913-1ddb6cd0f4e5",
   "737d38a3-337d-4c69-aac2-fed27378dd39",
   "e2e37cb6-c784-417a-af7c-ef350ecac2f5",
   "fe6b920c-a1ad-4e31-b67a-95f57c7ecbae",
   "f29cefdf-5ddd-4f69-8309-d3c714f1df71",
   "b61c5dba-503a-42d1-b441-5ebe1c412650",
   "1d6f3cb1-0c67-458c-8314-0e804e7a80ad",
   "a86f10a7-f1a7-42d8-9015-f4c4651ab834",
   "a48e7c85-60c7-494a-8bda-dcf6ab21939d",
   "59334dfb-9634-4b6a-8ef0-26ddff90029c",
   "9361c847-b84b-4bf9-90fb-5738f4a89a47"
  ]
 },
 "nbformat": 4,
 "nbformat_minor": 5
}
